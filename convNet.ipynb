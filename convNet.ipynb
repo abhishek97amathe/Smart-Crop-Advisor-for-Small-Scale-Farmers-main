{
 "cells": [
  {
   "cell_type": "markdown",
   "metadata": {},
   "source": [
    "### Building your network"
   ]
  },
  {
   "cell_type": "code",
   "execution_count": 1,
   "metadata": {},
   "outputs": [
    {
     "name": "stderr",
     "output_type": "stream",
     "text": [
      "Using TensorFlow backend.\n"
     ]
    },
    {
     "name": "stdout",
     "output_type": "stream",
     "text": [
      "_________________________________________________________________\n",
      "Layer (type)                 Output Shape              Param #   \n",
      "=================================================================\n",
      "conv2d_1 (Conv2D)            (None, 148, 148, 32)      896       \n",
      "_________________________________________________________________\n",
      "max_pooling2d_1 (MaxPooling2 (None, 74, 74, 32)        0         \n",
      "_________________________________________________________________\n",
      "conv2d_2 (Conv2D)            (None, 72, 72, 64)        18496     \n",
      "_________________________________________________________________\n",
      "max_pooling2d_2 (MaxPooling2 (None, 36, 36, 64)        0         \n",
      "_________________________________________________________________\n",
      "conv2d_3 (Conv2D)            (None, 34, 34, 128)       73856     \n",
      "_________________________________________________________________\n",
      "max_pooling2d_3 (MaxPooling2 (None, 17, 17, 128)       0         \n",
      "_________________________________________________________________\n",
      "conv2d_4 (Conv2D)            (None, 15, 15, 256)       295168    \n",
      "_________________________________________________________________\n",
      "max_pooling2d_4 (MaxPooling2 (None, 7, 7, 256)         0         \n",
      "_________________________________________________________________\n",
      "flatten_1 (Flatten)          (None, 12544)             0         \n",
      "_________________________________________________________________\n",
      "dropout_1 (Dropout)          (None, 12544)             0         \n",
      "_________________________________________________________________\n",
      "dense_1 (Dense)              (None, 256)               3211520   \n",
      "_________________________________________________________________\n",
      "dense_2 (Dense)              (None, 6)                 1542      \n",
      "=================================================================\n",
      "Total params: 3,601,478\n",
      "Trainable params: 3,601,478\n",
      "Non-trainable params: 0\n",
      "_________________________________________________________________\n"
     ]
    }
   ],
   "source": [
    "from keras import layers\n",
    "from keras import models\n",
    "from keras import regularizers\n",
    "\n",
    "model = models.Sequential()\n",
    "model.add(layers.Conv2D(32, (3, 3), activation='relu',input_shape=(150, 150, 3)))\n",
    "model.add(layers.MaxPooling2D((2, 2)))\n",
    "model.add(layers.Conv2D(64, (3, 3), activation='relu'))\n",
    "model.add(layers.MaxPooling2D((2, 2)))\n",
    "model.add(layers.Conv2D(128, (3, 3), activation='relu'))\n",
    "model.add(layers.MaxPooling2D((2, 2)))\n",
    "model.add(layers.Conv2D(256, (3, 3), activation='relu'))\n",
    "model.add(layers.MaxPooling2D((2, 2)))\n",
    "model.add(layers.Flatten())\n",
    "model.add(layers.Dropout(0.6))\n",
    "model.add(layers.Dense(256, activation='relu' ,kernel_regularizer=regularizers.l2(0.002)))\n",
    "model.add(layers.Dense(6, activation='softmax'))\n",
    "\n",
    "model.summary()"
   ]
  },
  {
   "cell_type": "code",
   "execution_count": 2,
   "metadata": {},
   "outputs": [],
   "source": [
    "from keras import optimizers\n",
    "model.compile(loss='categorical_crossentropy',\n",
    "optimizer=optimizers.Adam(lr=1e-3),\n",
    "metrics=['acc'])"
   ]
  },
  {
   "cell_type": "markdown",
   "metadata": {},
   "source": [
    "### Data preprocessing\n",
    "Using ImageDataGenerator to read images from directories"
   ]
  },
  {
   "cell_type": "code",
   "execution_count": 3,
   "metadata": {},
   "outputs": [
    {
     "name": "stdout",
     "output_type": "stream",
     "text": [
      "Found 7245 images belonging to 6 classes.\n",
      "Found 1355 images belonging to 6 classes.\n"
     ]
    }
   ],
   "source": [
    "from keras.preprocessing.image import ImageDataGenerator\n",
    "\n",
    "train_dir = \"../dataset_splits/train\"\n",
    "validation_dir = \"../dataset_splits/validation\"\n",
    "\n",
    "# Rescales all images by 1/255\n",
    "train_datagen = ImageDataGenerator(rescale=1./255)\n",
    "validation_datagen = ImageDataGenerator(rescale=1./255)\n",
    "\n",
    "\n",
    "train_generator = train_datagen.flow_from_directory(\n",
    "    train_dir, # Target directory\n",
    "    target_size=(150, 150), #Resizes all images to 150 × 150\n",
    "    batch_size=32,\n",
    "    class_mode='categorical') #Because you use binary_crossentropy loss, you need binary labels\n",
    "\n",
    "\n",
    "validation_generator = validation_datagen.flow_from_directory(\n",
    "    validation_dir,\n",
    "    target_size=(150, 150),\n",
    "    batch_size=32,\n",
    "    class_mode='categorical')"
   ]
  },
  {
   "cell_type": "markdown",
   "metadata": {},
   "source": [
    "### Fitting the model using a batch generator"
   ]
  },
  {
   "cell_type": "code",
   "execution_count": 5,
   "metadata": {},
   "outputs": [
    {
     "name": "stdout",
     "output_type": "stream",
     "text": [
      "Epoch 1/105\n",
      "230/230 [==============================] - 82s 355ms/step - loss: 1.2131 - acc: 0.5860 - val_loss: 0.7177 - val_acc: 0.7815\n",
      "Epoch 2/105\n",
      "230/230 [==============================] - 80s 347ms/step - loss: 0.6967 - acc: 0.8005 - val_loss: 0.4877 - val_acc: 0.8576\n",
      "Epoch 3/105\n",
      "230/230 [==============================] - 79s 345ms/step - loss: 0.5201 - acc: 0.8564 - val_loss: 0.4820 - val_acc: 0.8679\n",
      "Epoch 4/105\n",
      "230/230 [==============================] - 80s 346ms/step - loss: 0.4844 - acc: 0.8768 - val_loss: 0.3834 - val_acc: 0.9129\n",
      "Epoch 5/105\n",
      "230/230 [==============================] - 79s 345ms/step - loss: 0.3990 - acc: 0.9094 - val_loss: 0.3665 - val_acc: 0.9114\n",
      "Epoch 6/105\n",
      "230/230 [==============================] - 79s 345ms/step - loss: 0.3940 - acc: 0.9099 - val_loss: 0.3047 - val_acc: 0.9402\n",
      "Epoch 7/105\n",
      "230/230 [==============================] - 80s 347ms/step - loss: 0.3588 - acc: 0.9241 - val_loss: 0.2880 - val_acc: 0.9550\n",
      "Epoch 8/105\n",
      "230/230 [==============================] - 79s 345ms/step - loss: 0.3376 - acc: 0.9329 - val_loss: 0.3366 - val_acc: 0.9314\n",
      "Epoch 9/105\n",
      "230/230 [==============================] - 79s 344ms/step - loss: 0.3203 - acc: 0.9365 - val_loss: 0.3147 - val_acc: 0.9387\n",
      "Epoch 10/105\n",
      "230/230 [==============================] - 79s 344ms/step - loss: 0.3009 - acc: 0.9481 - val_loss: 0.2535 - val_acc: 0.9601\n",
      "Epoch 11/105\n",
      "230/230 [==============================] - 79s 345ms/step - loss: 0.2978 - acc: 0.9416 - val_loss: 0.3671 - val_acc: 0.9232\n",
      "Epoch 12/105\n",
      "230/230 [==============================] - 79s 344ms/step - loss: 0.3001 - acc: 0.9464 - val_loss: 0.3091 - val_acc: 0.9506\n",
      "Epoch 13/105\n",
      "230/230 [==============================] - 79s 344ms/step - loss: 0.2830 - acc: 0.9490 - val_loss: 0.3532 - val_acc: 0.9306\n",
      "Epoch 14/105\n",
      "230/230 [==============================] - 79s 344ms/step - loss: 0.2753 - acc: 0.9560 - val_loss: 0.2400 - val_acc: 0.9653\n",
      "Epoch 15/105\n",
      "230/230 [==============================] - 79s 345ms/step - loss: 0.2502 - acc: 0.9582 - val_loss: 0.2711 - val_acc: 0.9587\n",
      "Epoch 16/105\n",
      "230/230 [==============================] - 79s 344ms/step - loss: 0.2705 - acc: 0.9579 - val_loss: 0.2151 - val_acc: 0.9705\n",
      "Epoch 17/105\n",
      "230/230 [==============================] - 79s 344ms/step - loss: 0.2466 - acc: 0.9594 - val_loss: 0.2720 - val_acc: 0.9579\n",
      "Epoch 18/105\n",
      "230/230 [==============================] - 80s 346ms/step - loss: 0.2361 - acc: 0.9624 - val_loss: 0.2630 - val_acc: 0.9542\n",
      "Epoch 19/105\n",
      "230/230 [==============================] - 80s 350ms/step - loss: 0.2352 - acc: 0.9663 - val_loss: 0.2243 - val_acc: 0.9646\n",
      "Epoch 20/105\n",
      "230/230 [==============================] - 79s 345ms/step - loss: 0.2026 - acc: 0.9723 - val_loss: 0.1895 - val_acc: 0.9712\n",
      "Epoch 21/105\n",
      "230/230 [==============================] - 80s 346ms/step - loss: 0.2294 - acc: 0.9637 - val_loss: 0.3121 - val_acc: 0.9299\n",
      "Epoch 22/105\n",
      "230/230 [==============================] - 79s 342ms/step - loss: 0.2219 - acc: 0.9685 - val_loss: 0.2587 - val_acc: 0.9587\n",
      "Epoch 23/105\n",
      "230/230 [==============================] - 79s 343ms/step - loss: 0.2032 - acc: 0.9712 - val_loss: 0.2347 - val_acc: 0.9601\n",
      "Epoch 24/105\n",
      "230/230 [==============================] - 79s 342ms/step - loss: 0.2151 - acc: 0.9671 - val_loss: 0.2106 - val_acc: 0.9727\n",
      "Epoch 25/105\n",
      "230/230 [==============================] - 79s 343ms/step - loss: 0.2135 - acc: 0.9690 - val_loss: 0.2163 - val_acc: 0.9690\n",
      "Epoch 26/105\n",
      "230/230 [==============================] - 79s 342ms/step - loss: 0.1762 - acc: 0.9774 - val_loss: 0.1717 - val_acc: 0.9749\n",
      "Epoch 27/105\n",
      "230/230 [==============================] - 79s 342ms/step - loss: 0.2111 - acc: 0.9686 - val_loss: 0.2067 - val_acc: 0.9742\n",
      "Epoch 28/105\n",
      "230/230 [==============================] - 79s 342ms/step - loss: 0.1898 - acc: 0.9738 - val_loss: 0.1853 - val_acc: 0.9764\n",
      "Epoch 29/105\n",
      "230/230 [==============================] - 79s 342ms/step - loss: 0.1728 - acc: 0.9784 - val_loss: 0.2308 - val_acc: 0.9535\n",
      "Epoch 30/105\n",
      "230/230 [==============================] - 79s 342ms/step - loss: 0.1782 - acc: 0.9762 - val_loss: 0.1787 - val_acc: 0.9742\n",
      "Epoch 31/105\n",
      "230/230 [==============================] - 79s 342ms/step - loss: 0.1692 - acc: 0.9785 - val_loss: 0.2279 - val_acc: 0.9638\n",
      "Epoch 32/105\n",
      "230/230 [==============================] - 79s 342ms/step - loss: 0.1864 - acc: 0.9750 - val_loss: 0.1905 - val_acc: 0.9697\n",
      "Epoch 33/105\n",
      "230/230 [==============================] - 79s 342ms/step - loss: 0.1659 - acc: 0.9793 - val_loss: 0.1811 - val_acc: 0.9764\n",
      "Epoch 34/105\n",
      "230/230 [==============================] - 79s 342ms/step - loss: 0.1817 - acc: 0.9760 - val_loss: 0.2154 - val_acc: 0.9646\n",
      "Epoch 35/105\n",
      "230/230 [==============================] - 79s 342ms/step - loss: 0.1609 - acc: 0.9804 - val_loss: 0.1709 - val_acc: 0.9749\n",
      "Epoch 36/105\n",
      "230/230 [==============================] - 79s 342ms/step - loss: 0.1649 - acc: 0.9780 - val_loss: 0.1719 - val_acc: 0.9756\n",
      "Epoch 37/105\n",
      "230/230 [==============================] - 79s 342ms/step - loss: 0.1609 - acc: 0.9779 - val_loss: 0.2098 - val_acc: 0.9690\n",
      "Epoch 38/105\n",
      "230/230 [==============================] - 79s 342ms/step - loss: 0.1382 - acc: 0.9846 - val_loss: 0.1481 - val_acc: 0.9860\n",
      "Epoch 39/105\n",
      "230/230 [==============================] - 79s 342ms/step - loss: 0.1294 - acc: 0.9840 - val_loss: 0.2058 - val_acc: 0.9616\n",
      "Epoch 40/105\n",
      "230/230 [==============================] - 79s 342ms/step - loss: 0.1722 - acc: 0.9736 - val_loss: 0.1742 - val_acc: 0.9668\n",
      "Epoch 41/105\n",
      "230/230 [==============================] - 79s 342ms/step - loss: 0.1337 - acc: 0.9861 - val_loss: 0.1612 - val_acc: 0.9749\n",
      "Epoch 42/105\n",
      "230/230 [==============================] - 79s 342ms/step - loss: 0.1552 - acc: 0.9784 - val_loss: 0.1560 - val_acc: 0.9771\n",
      "Epoch 43/105\n",
      "230/230 [==============================] - 79s 342ms/step - loss: 0.1469 - acc: 0.9832 - val_loss: 0.2311 - val_acc: 0.9565\n",
      "Epoch 44/105\n",
      "230/230 [==============================] - 79s 342ms/step - loss: 0.1396 - acc: 0.9829 - val_loss: 0.1510 - val_acc: 0.9808\n",
      "Epoch 45/105\n",
      "230/230 [==============================] - 79s 342ms/step - loss: 0.1404 - acc: 0.9836 - val_loss: 0.1492 - val_acc: 0.9808\n",
      "Epoch 46/105\n",
      "230/230 [==============================] - 79s 342ms/step - loss: 0.1583 - acc: 0.9774 - val_loss: 0.1888 - val_acc: 0.9705\n",
      "Epoch 47/105\n",
      "230/230 [==============================] - 79s 342ms/step - loss: 0.1462 - acc: 0.9810 - val_loss: 0.1447 - val_acc: 0.9749\n",
      "Epoch 48/105\n",
      "230/230 [==============================] - 79s 342ms/step - loss: 0.1328 - acc: 0.9863 - val_loss: 0.1248 - val_acc: 0.9867\n",
      "Epoch 49/105\n",
      "230/230 [==============================] - 79s 342ms/step - loss: 0.1090 - acc: 0.9889 - val_loss: 0.1114 - val_acc: 0.9845\n",
      "Epoch 50/105\n",
      "230/230 [==============================] - 79s 342ms/step - loss: 0.1112 - acc: 0.9890 - val_loss: 0.1632 - val_acc: 0.9742\n",
      "Epoch 51/105\n",
      "230/230 [==============================] - 79s 342ms/step - loss: 0.1279 - acc: 0.9846 - val_loss: 0.1519 - val_acc: 0.9727\n",
      "Epoch 52/105\n",
      "230/230 [==============================] - 79s 342ms/step - loss: 0.1168 - acc: 0.9874 - val_loss: 0.2206 - val_acc: 0.9587\n",
      "Epoch 53/105\n",
      "230/230 [==============================] - 79s 342ms/step - loss: 0.1277 - acc: 0.9834 - val_loss: 0.1717 - val_acc: 0.9712\n",
      "Epoch 54/105\n",
      "230/230 [==============================] - 79s 342ms/step - loss: 0.1372 - acc: 0.9815 - val_loss: 0.1273 - val_acc: 0.9852\n",
      "Epoch 55/105\n",
      "230/230 [==============================] - 79s 342ms/step - loss: 0.1429 - acc: 0.9807 - val_loss: 0.1706 - val_acc: 0.9712\n",
      "Epoch 56/105\n",
      "230/230 [==============================] - 79s 342ms/step - loss: 0.1202 - acc: 0.9875 - val_loss: 0.2121 - val_acc: 0.9653\n",
      "Epoch 57/105\n",
      "230/230 [==============================] - 79s 342ms/step - loss: 0.1110 - acc: 0.9898 - val_loss: 0.1313 - val_acc: 0.9815\n",
      "Epoch 58/105\n",
      "230/230 [==============================] - 79s 343ms/step - loss: 0.1394 - acc: 0.9779 - val_loss: 0.1537 - val_acc: 0.9764\n",
      "Epoch 59/105\n",
      "230/230 [==============================] - 79s 342ms/step - loss: 0.1346 - acc: 0.9842 - val_loss: 0.1505 - val_acc: 0.9771\n",
      "Epoch 60/105\n",
      "230/230 [==============================] - 79s 342ms/step - loss: 0.1179 - acc: 0.9875 - val_loss: 0.2190 - val_acc: 0.9579\n"
     ]
    },
    {
     "name": "stdout",
     "output_type": "stream",
     "text": [
      "Epoch 61/105\n",
      "230/230 [==============================] - 79s 342ms/step - loss: 0.1261 - acc: 0.9855 - val_loss: 0.1144 - val_acc: 0.9852\n",
      "Epoch 62/105\n",
      "230/230 [==============================] - 79s 342ms/step - loss: 0.1079 - acc: 0.9870 - val_loss: 0.1415 - val_acc: 0.9815\n",
      "Epoch 63/105\n",
      "230/230 [==============================] - 79s 342ms/step - loss: 0.1298 - acc: 0.9835 - val_loss: 0.1423 - val_acc: 0.9793\n",
      "Epoch 64/105\n",
      "230/230 [==============================] - 79s 342ms/step - loss: 0.1056 - acc: 0.9901 - val_loss: 0.1373 - val_acc: 0.9786\n",
      "Epoch 65/105\n",
      "230/230 [==============================] - 79s 342ms/step - loss: 0.1179 - acc: 0.9880 - val_loss: 0.1483 - val_acc: 0.9779\n",
      "Epoch 66/105\n",
      "230/230 [==============================] - 79s 342ms/step - loss: 0.1187 - acc: 0.9841 - val_loss: 0.1793 - val_acc: 0.9683\n",
      "Epoch 67/105\n",
      "230/230 [==============================] - 79s 342ms/step - loss: 0.1081 - acc: 0.9895 - val_loss: 0.1383 - val_acc: 0.9756\n",
      "Epoch 68/105\n",
      "230/230 [==============================] - 79s 342ms/step - loss: 0.1191 - acc: 0.9836 - val_loss: 0.2066 - val_acc: 0.9668\n",
      "Epoch 69/105\n",
      "230/230 [==============================] - 78s 341ms/step - loss: 0.1015 - acc: 0.9905 - val_loss: 0.1432 - val_acc: 0.9779\n",
      "Epoch 70/105\n",
      "230/230 [==============================] - 79s 342ms/step - loss: 0.0951 - acc: 0.9905 - val_loss: 0.1074 - val_acc: 0.9823\n",
      "Epoch 71/105\n",
      "230/230 [==============================] - 79s 342ms/step - loss: 0.1062 - acc: 0.9870 - val_loss: 0.1432 - val_acc: 0.9793\n",
      "Epoch 72/105\n",
      "230/230 [==============================] - 79s 342ms/step - loss: 0.1216 - acc: 0.9838 - val_loss: 0.1566 - val_acc: 0.9742\n",
      "Epoch 73/105\n",
      "230/230 [==============================] - 79s 342ms/step - loss: 0.1060 - acc: 0.9890 - val_loss: 0.1761 - val_acc: 0.9661\n",
      "Epoch 74/105\n",
      "230/230 [==============================] - 79s 342ms/step - loss: 0.0885 - acc: 0.9927 - val_loss: 0.1385 - val_acc: 0.9793\n",
      "Epoch 75/105\n",
      "230/230 [==============================] - 79s 342ms/step - loss: 0.1047 - acc: 0.9878 - val_loss: 0.1510 - val_acc: 0.9771\n",
      "Epoch 76/105\n",
      "230/230 [==============================] - 79s 342ms/step - loss: 0.1102 - acc: 0.9859 - val_loss: 0.1708 - val_acc: 0.9690\n",
      "Epoch 77/105\n",
      "230/230 [==============================] - 79s 342ms/step - loss: 0.1027 - acc: 0.9878 - val_loss: 0.1836 - val_acc: 0.9646\n",
      "Epoch 78/105\n",
      "230/230 [==============================] - 79s 342ms/step - loss: 0.0958 - acc: 0.9910 - val_loss: 0.1040 - val_acc: 0.9889\n",
      "Epoch 79/105\n",
      "230/230 [==============================] - 79s 342ms/step - loss: 0.0770 - acc: 0.9937 - val_loss: 0.1527 - val_acc: 0.9675\n",
      "Epoch 80/105\n",
      "230/230 [==============================] - 79s 342ms/step - loss: 0.1032 - acc: 0.9858 - val_loss: 0.1074 - val_acc: 0.9867\n",
      "Epoch 81/105\n",
      "230/230 [==============================] - 79s 342ms/step - loss: 0.0966 - acc: 0.9899 - val_loss: 0.1149 - val_acc: 0.9838\n",
      "Epoch 82/105\n",
      "230/230 [==============================] - 79s 342ms/step - loss: 0.1038 - acc: 0.9865 - val_loss: 0.1993 - val_acc: 0.9587\n",
      "Epoch 83/105\n",
      "230/230 [==============================] - 79s 342ms/step - loss: 0.1117 - acc: 0.9866 - val_loss: 0.1595 - val_acc: 0.9749\n",
      "Epoch 84/105\n",
      "230/230 [==============================] - 79s 342ms/step - loss: 0.0928 - acc: 0.9921 - val_loss: 0.1213 - val_acc: 0.9860\n",
      "Epoch 85/105\n",
      "230/230 [==============================] - 79s 342ms/step - loss: 0.0761 - acc: 0.9939 - val_loss: 0.0854 - val_acc: 0.9882\n",
      "Epoch 86/105\n",
      "230/230 [==============================] - 79s 342ms/step - loss: 0.0846 - acc: 0.9913 - val_loss: 0.1145 - val_acc: 0.9852\n",
      "Epoch 87/105\n",
      "230/230 [==============================] - 79s 342ms/step - loss: 0.0983 - acc: 0.9883 - val_loss: 0.1275 - val_acc: 0.9771\n",
      "Epoch 88/105\n",
      "230/230 [==============================] - 79s 342ms/step - loss: 0.0981 - acc: 0.9880 - val_loss: 0.0980 - val_acc: 0.9845\n",
      "Epoch 89/105\n",
      "230/230 [==============================] - 79s 342ms/step - loss: 0.0783 - acc: 0.9938 - val_loss: 0.1106 - val_acc: 0.9808\n",
      "Epoch 90/105\n",
      "230/230 [==============================] - 79s 342ms/step - loss: 0.0713 - acc: 0.9946 - val_loss: 0.1065 - val_acc: 0.9830\n",
      "Epoch 91/105\n",
      "230/230 [==============================] - 79s 342ms/step - loss: 0.0915 - acc: 0.9897 - val_loss: 0.1770 - val_acc: 0.9720\n",
      "Epoch 92/105\n",
      "230/230 [==============================] - 79s 342ms/step - loss: 0.0917 - acc: 0.9904 - val_loss: 0.1326 - val_acc: 0.9823\n",
      "Epoch 93/105\n",
      "230/230 [==============================] - 79s 342ms/step - loss: 0.1219 - acc: 0.9832 - val_loss: 0.1468 - val_acc: 0.9808\n",
      "Epoch 94/105\n",
      "230/230 [==============================] - 79s 341ms/step - loss: 0.0892 - acc: 0.9919 - val_loss: 0.1007 - val_acc: 0.9882\n",
      "Epoch 95/105\n",
      "230/230 [==============================] - 79s 342ms/step - loss: 0.0755 - acc: 0.9943 - val_loss: 0.1328 - val_acc: 0.9838\n",
      "Epoch 96/105\n",
      "230/230 [==============================] - 79s 342ms/step - loss: 0.0987 - acc: 0.9867 - val_loss: 0.1357 - val_acc: 0.9779\n",
      "Epoch 97/105\n",
      "230/230 [==============================] - 79s 342ms/step - loss: 0.0893 - acc: 0.9914 - val_loss: 0.0989 - val_acc: 0.9838\n",
      "Epoch 98/105\n",
      "230/230 [==============================] - 79s 342ms/step - loss: 0.0808 - acc: 0.9919 - val_loss: 0.1332 - val_acc: 0.9801\n",
      "Epoch 99/105\n",
      "230/230 [==============================] - 79s 344ms/step - loss: 0.0763 - acc: 0.9921 - val_loss: 0.1136 - val_acc: 0.9882\n",
      "Epoch 100/105\n",
      "230/230 [==============================] - 79s 343ms/step - loss: 0.0715 - acc: 0.9948 - val_loss: 0.1368 - val_acc: 0.9801\n",
      "Epoch 101/105\n",
      "230/230 [==============================] - 79s 343ms/step - loss: 0.0827 - acc: 0.9899 - val_loss: 0.0963 - val_acc: 0.9875\n",
      "Epoch 102/105\n",
      "230/230 [==============================] - 79s 344ms/step - loss: 0.0879 - acc: 0.9902 - val_loss: 0.1386 - val_acc: 0.9749\n",
      "Epoch 103/105\n",
      "230/230 [==============================] - 79s 344ms/step - loss: 0.0743 - acc: 0.9927 - val_loss: 0.1240 - val_acc: 0.9779\n",
      "Epoch 104/105\n",
      "230/230 [==============================] - 79s 344ms/step - loss: 0.0750 - acc: 0.9928 - val_loss: 0.1555 - val_acc: 0.9749\n",
      "Epoch 105/105\n",
      "230/230 [==============================] - 79s 344ms/step - loss: 0.0867 - acc: 0.9901 - val_loss: 0.0938 - val_acc: 0.9823\n"
     ]
    }
   ],
   "source": [
    "history = model.fit_generator(\n",
    "    train_generator,\n",
    "    steps_per_epoch=230,\n",
    "    epochs=105,\n",
    "    validation_data=validation_generator,\n",
    "    validation_steps=43)"
   ]
  },
  {
   "cell_type": "markdown",
   "metadata": {},
   "source": [
    "### Saving the model"
   ]
  },
  {
   "cell_type": "code",
   "execution_count": 6,
   "metadata": {},
   "outputs": [],
   "source": [
    "model.save('./saved model/tomato_small_1.h5')"
   ]
  },
  {
   "cell_type": "markdown",
   "metadata": {},
   "source": [
    "### Displaying curves of loss and accuracy during training"
   ]
  },
  {
   "cell_type": "code",
   "execution_count": 7,
   "metadata": {},
   "outputs": [
    {
     "data": {
      "image/png": "[encoded data removed]",
      "text/plain": [
       "<Figure size 432x288 with 1 Axes>"
      ]
     },
     "metadata": {
      "needs_background": "light"
     },
     "output_type": "display_data"
    },
    {
     "data": {
      "image/png": "[encoded data removed]",
      "text/plain": [
       "<Figure size 432x288 with 1 Axes>"
      ]
     },
     "metadata": {
      "needs_background": "light"
     },
     "output_type": "display_data"
    }
   ],
   "source": [
    "import matplotlib.pyplot as plt\n",
    "# Config the matplotlib backend as plotting inline in IPython\n",
    "%matplotlib inline\n",
    "\n",
    "acc = history.history['acc']\n",
    "val_acc = history.history['val_acc']\n",
    "loss = history.history['loss']\n",
    "val_loss = history.history['val_loss']\n",
    "epochs = range(1, len(acc) + 1)\n",
    "plt.plot(epochs, acc, 'bo', label='Training acc')\n",
    "plt.plot(epochs, val_acc, 'b', label='Validation acc')\n",
    "plt.title('Training and validation accuracy')\n",
    "plt.legend()\n",
    "plt.figure()\n",
    "plt.plot(epochs, loss, 'bo', label='Training loss')\n",
    "plt.plot(epochs, val_loss, 'b', label='Validation loss')\n",
    "plt.title('Training and validation loss')\n",
    "plt.legend()\n",
    "plt.show()"
   ]
  },
  {
   "cell_type": "markdown",
   "metadata": {},
   "source": [
    "### Train the model on all samples (Training and Validation)"
   ]
  },
  {
   "cell_type": "code",
   "execution_count": 8,
   "metadata": {},
   "outputs": [
    {
     "name": "stdout",
     "output_type": "stream",
     "text": [
      "Found 448 images belonging to 6 classes.\n"
     ]
    }
   ],
   "source": [
    "test_dir = \"../dataset_splits/test\"\n",
    "\n",
    "test_datagen = ImageDataGenerator(rescale=1./255)\n",
    "\n",
    "\n",
    "test_generator = test_datagen.flow_from_directory(\n",
    "    test_dir, # Target directory\n",
    "    target_size=(150, 150), #Resizes all images to 150 × 150\n",
    "    batch_size=32,\n",
    "    class_mode='categorical') #Because you use binary_crossentropy loss, you need binary labels\n"
   ]
  },
  {
   "cell_type": "code",
   "execution_count": 9,
   "metadata": {},
   "outputs": [],
   "source": [
    "score = model.evaluate_generator(test_generator, steps=40, max_queue_size=10, workers=1, use_multiprocessing=False, verbose=0)"
   ]
  },
  {
   "cell_type": "code",
   "execution_count": 10,
   "metadata": {},
   "outputs": [
    {
     "name": "stdout",
     "output_type": "stream",
     "text": [
      "[0.06711883898824453, 0.9984375]\n"
     ]
    }
   ],
   "source": [
    "print(score)"
   ]
  },
  {
   "cell_type": "code",
   "execution_count": null,
   "metadata": {},
   "outputs": [],
   "source": []
  }
 ],
 "metadata": {
  "kernelspec": {
   "display_name": "Python 3",
   "language": "python",
   "name": "python3"
  },
  "language_info": {
   "codemirror_mode": {
    "name": "ipython",
    "version": 3
   },
   "file_extension": ".py",
   "mimetype": "text/x-python",
   "name": "python",
   "nbconvert_exporter": "python",
   "pygments_lexer": "ipython3",
   "version": "3.6.7"
  }
 },
 "nbformat": 4,
 "nbformat_minor": 2
}
