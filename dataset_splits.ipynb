{
 "cells": [
  {
   "cell_type": "markdown",
   "metadata": {},
   "source": [
    "### Create dataset_splits directories"
   ]
  },
  {
   "cell_type": "code",
   "execution_count": 1,
   "metadata": {},
   "outputs": [],
   "source": [
    "import os, shutil\n",
    "\n",
    "# Path to the directory where the original dataset is\n",
    "original_dataset_dir = './dataset_original/'\n",
    "\n",
    "# list of all plant diseases classes in the original dataset\n",
    "classes_list = os.listdir(original_dataset_dir)\n",
    "\n",
    "#Directory where you’ll store your dataset splits\n",
    "base_dir = './dataset_splits'\n",
    "os.mkdir(base_dir)\n",
    "\n",
    "#Directories for the training, validation, and test splits\n",
    "train_dir = os.path.join(base_dir, 'train')\n",
    "os.mkdir(train_dir)\n",
    "validation_dir = os.path.join(base_dir, 'validation')\n",
    "os.mkdir(validation_dir)\n",
    "test_dir = os.path.join(base_dir, 'test')\n",
    "os.mkdir(test_dir)\n",
    "\n",
    "\n",
    "for cls in classes_list:\n",
    "    #Directory for training pictures\n",
    "    os.mkdir(os.path.join(train_dir, cls))\n",
    "    \n",
    "    #Directory for validation pictures\n",
    "    os.mkdir(os.path.join(validation_dir, cls))\n",
    "    \n",
    "    # Directory for test pictures\n",
    "    os.mkdir(os.path.join(test_dir, cls))\n",
    "\n"
   ]
  },
  {
   "cell_type": "markdown",
   "metadata": {},
   "source": [
    "### Copy images from dataset_original to dataset_splits"
   ]
  },
  {
   "cell_type": "code",
   "execution_count": 2,
   "metadata": {},
   "outputs": [
    {
     "name": "stdout",
     "output_type": "stream",
     "text": [
      "Train size( 0 ):  1624\n",
      "Validation size( 0 ):  304\n",
      "Test size( 0 ):  101\n",
      "Train size( 1 ):  751\n",
      "Validation size( 1 ):  140\n",
      "Test size( 1 ):  46\n",
      "Train size( 2 ):  1183\n",
      "Validation size( 2 ):  221\n",
      "Test size( 2 ):  73\n",
      "Train size( 3 ):  1327\n",
      "Validation size( 3 ):  248\n",
      "Test size( 3 ):  82\n",
      "Train size( 4 ):  716\n",
      "Validation size( 4 ):  134\n",
      "Test size( 4 ):  44\n",
      "Train size( 5 ):  1644\n",
      "Validation size( 5 ):  308\n",
      "Test size( 5 ):  102\n"
     ]
    }
   ],
   "source": [
    "import math\n",
    "\n",
    "for cls in classes_list:\n",
    "    path = os.path.join(original_dataset_dir, cls)\n",
    "    fnames = os.listdir(path)\n",
    "    train_size = math.floor(len(fnames) * 0.8)\n",
    "    validation_size = math.floor(len(fnames) * 0.15)\n",
    "    test_size = math.floor(len(fnames) * 0.05)\n",
    "    \n",
    "    train_fnames = fnames[:train_size]\n",
    "    print(\"Train size(\",cls,\"): \", len(train_fnames))\n",
    "    for fname in train_fnames:\n",
    "        src = os.path.join(path, fname)\n",
    "        dst = os.path.join(os.path.join(train_dir, cls), fname)\n",
    "        shutil.copyfile(src, dst)\n",
    "        \n",
    "    validation_fnames = fnames[train_size:(validation_size + train_size)]\n",
    "    print(\"Validation size(\",cls,\"): \", len(validation_fnames))\n",
    "    for fname in validation_fnames:\n",
    "        src = os.path.join(path, fname)\n",
    "        dst = os.path.join(os.path.join(validation_dir, cls), fname)\n",
    "        shutil.copyfile(src, dst)\n",
    "        \n",
    "    \n",
    "    test_fnames = fnames[(train_size+validation_size):(validation_size + train_size +test_size)]\n",
    "    print(\"Test size(\",cls,\"): \", len(test_fnames))\n",
    "    for fname in test_fnames:\n",
    "        src = os.path.join(path, fname)\n",
    "        dst = os.path.join(os.path.join(test_dir, cls), fname)\n",
    "        shutil.copyfile(src, dst)\n",
    "    \n"
   ]
  },
  {
   "cell_type": "code",
   "execution_count": null,
   "metadata": {},
   "outputs": [],
   "source": []
  }
 ],
 "metadata": {
  "kernelspec": {
   "display_name": "Python 3",
   "language": "python",
   "name": "python3"
  },
  "language_info": {
   "codemirror_mode": {
    "name": "ipython",
    "version": 3
   },
   "file_extension": ".py",
   "mimetype": "text/x-python",
   "name": "python",
   "nbconvert_exporter": "python",
   "pygments_lexer": "ipython3",
   "version": "3.6.7"
  }
 },
 "nbformat": 4,
 "nbformat_minor": 2
}
